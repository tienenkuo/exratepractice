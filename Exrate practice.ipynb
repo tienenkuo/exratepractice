{
 "cells": [
  {
   "cell_type": "code",
   "execution_count": 17,
   "metadata": {},
   "outputs": [
    {
     "name": "stdout",
     "output_type": "stream",
     "text": [
      "<class 'pandas.core.frame.DataFrame'>\n"
     ]
    },
    {
     "data": {
      "text/html": [
       "<div>\n",
       "<style scoped>\n",
       "    .dataframe tbody tr th:only-of-type {\n",
       "        vertical-align: middle;\n",
       "    }\n",
       "\n",
       "    .dataframe tbody tr th {\n",
       "        vertical-align: top;\n",
       "    }\n",
       "\n",
       "    .dataframe thead th {\n",
       "        text-align: right;\n",
       "    }\n",
       "</style>\n",
       "<table border=\"1\" class=\"dataframe\">\n",
       "  <thead>\n",
       "    <tr style=\"text-align: right;\">\n",
       "      <th></th>\n",
       "      <th>Data Date</th>\n",
       "      <th>Currency</th>\n",
       "      <th>Rate</th>\n",
       "      <th>Cash</th>\n",
       "      <th>Spot</th>\n",
       "      <th>Forward-10Days</th>\n",
       "      <th>Forward-30Days</th>\n",
       "      <th>Forward-60Days</th>\n",
       "      <th>Forward-90Days</th>\n",
       "      <th>Forward-120Days</th>\n",
       "      <th>...</th>\n",
       "      <th>Rate.1</th>\n",
       "      <th>Cash.1</th>\n",
       "      <th>Spot.1</th>\n",
       "      <th>Forward-10Days.1</th>\n",
       "      <th>Forward-30Days.1</th>\n",
       "      <th>Forward-60Days.1</th>\n",
       "      <th>Forward-90Days.1</th>\n",
       "      <th>Forward-120Days.1</th>\n",
       "      <th>Forward-150Days.1</th>\n",
       "      <th>Forward-180Days.1</th>\n",
       "    </tr>\n",
       "  </thead>\n",
       "  <tbody>\n",
       "    <tr>\n",
       "      <th>20191128</th>\n",
       "      <td>USD</td>\n",
       "      <td>Buying</td>\n",
       "      <td>30.095</td>\n",
       "      <td>30.445</td>\n",
       "      <td>30.429</td>\n",
       "      <td>30.396</td>\n",
       "      <td>30.350</td>\n",
       "      <td>30.311</td>\n",
       "      <td>30.260</td>\n",
       "      <td>30.218</td>\n",
       "      <td>...</td>\n",
       "      <td>30.765</td>\n",
       "      <td>30.545</td>\n",
       "      <td>30.532</td>\n",
       "      <td>30.507</td>\n",
       "      <td>30.463</td>\n",
       "      <td>30.423</td>\n",
       "      <td>30.378</td>\n",
       "      <td>30.343</td>\n",
       "      <td>30.310</td>\n",
       "      <td>NaN</td>\n",
       "    </tr>\n",
       "    <tr>\n",
       "      <th>20191127</th>\n",
       "      <td>USD</td>\n",
       "      <td>Buying</td>\n",
       "      <td>30.100</td>\n",
       "      <td>30.450</td>\n",
       "      <td>30.435</td>\n",
       "      <td>30.406</td>\n",
       "      <td>30.354</td>\n",
       "      <td>30.317</td>\n",
       "      <td>30.269</td>\n",
       "      <td>30.222</td>\n",
       "      <td>...</td>\n",
       "      <td>30.770</td>\n",
       "      <td>30.550</td>\n",
       "      <td>30.539</td>\n",
       "      <td>30.518</td>\n",
       "      <td>30.466</td>\n",
       "      <td>30.428</td>\n",
       "      <td>30.385</td>\n",
       "      <td>30.347</td>\n",
       "      <td>30.314</td>\n",
       "      <td>NaN</td>\n",
       "    </tr>\n",
       "    <tr>\n",
       "      <th>20191126</th>\n",
       "      <td>USD</td>\n",
       "      <td>Buying</td>\n",
       "      <td>30.110</td>\n",
       "      <td>30.460</td>\n",
       "      <td>30.445</td>\n",
       "      <td>30.415</td>\n",
       "      <td>30.364</td>\n",
       "      <td>30.327</td>\n",
       "      <td>30.278</td>\n",
       "      <td>30.232</td>\n",
       "      <td>...</td>\n",
       "      <td>30.780</td>\n",
       "      <td>30.560</td>\n",
       "      <td>30.549</td>\n",
       "      <td>30.527</td>\n",
       "      <td>30.477</td>\n",
       "      <td>30.438</td>\n",
       "      <td>30.397</td>\n",
       "      <td>30.359</td>\n",
       "      <td>30.327</td>\n",
       "      <td>NaN</td>\n",
       "    </tr>\n",
       "    <tr>\n",
       "      <th>20191125</th>\n",
       "      <td>USD</td>\n",
       "      <td>Buying</td>\n",
       "      <td>30.100</td>\n",
       "      <td>30.450</td>\n",
       "      <td>30.435</td>\n",
       "      <td>30.406</td>\n",
       "      <td>30.351</td>\n",
       "      <td>30.312</td>\n",
       "      <td>30.271</td>\n",
       "      <td>30.225</td>\n",
       "      <td>...</td>\n",
       "      <td>30.770</td>\n",
       "      <td>30.550</td>\n",
       "      <td>30.540</td>\n",
       "      <td>30.520</td>\n",
       "      <td>30.469</td>\n",
       "      <td>30.430</td>\n",
       "      <td>30.393</td>\n",
       "      <td>30.353</td>\n",
       "      <td>30.323</td>\n",
       "      <td>NaN</td>\n",
       "    </tr>\n",
       "    <tr>\n",
       "      <th>20191122</th>\n",
       "      <td>USD</td>\n",
       "      <td>Buying</td>\n",
       "      <td>30.110</td>\n",
       "      <td>30.460</td>\n",
       "      <td>30.446</td>\n",
       "      <td>30.418</td>\n",
       "      <td>30.363</td>\n",
       "      <td>30.325</td>\n",
       "      <td>30.282</td>\n",
       "      <td>30.235</td>\n",
       "      <td>...</td>\n",
       "      <td>30.780</td>\n",
       "      <td>30.560</td>\n",
       "      <td>30.550</td>\n",
       "      <td>30.529</td>\n",
       "      <td>30.476</td>\n",
       "      <td>30.438</td>\n",
       "      <td>30.401</td>\n",
       "      <td>30.360</td>\n",
       "      <td>30.328</td>\n",
       "      <td>NaN</td>\n",
       "    </tr>\n",
       "  </tbody>\n",
       "</table>\n",
       "<p>5 rows × 22 columns</p>\n",
       "</div>"
      ],
      "text/plain": [
       "         Data Date Currency    Rate    Cash    Spot  Forward-10Days  \\\n",
       "20191128       USD   Buying  30.095  30.445  30.429          30.396   \n",
       "20191127       USD   Buying  30.100  30.450  30.435          30.406   \n",
       "20191126       USD   Buying  30.110  30.460  30.445          30.415   \n",
       "20191125       USD   Buying  30.100  30.450  30.435          30.406   \n",
       "20191122       USD   Buying  30.110  30.460  30.446          30.418   \n",
       "\n",
       "          Forward-30Days  Forward-60Days  Forward-90Days  Forward-120Days  \\\n",
       "20191128          30.350          30.311          30.260           30.218   \n",
       "20191127          30.354          30.317          30.269           30.222   \n",
       "20191126          30.364          30.327          30.278           30.232   \n",
       "20191125          30.351          30.312          30.271           30.225   \n",
       "20191122          30.363          30.325          30.282           30.235   \n",
       "\n",
       "          ...  Rate.1  Cash.1  Spot.1  Forward-10Days.1  Forward-30Days.1  \\\n",
       "20191128  ...  30.765  30.545  30.532            30.507            30.463   \n",
       "20191127  ...  30.770  30.550  30.539            30.518            30.466   \n",
       "20191126  ...  30.780  30.560  30.549            30.527            30.477   \n",
       "20191125  ...  30.770  30.550  30.540            30.520            30.469   \n",
       "20191122  ...  30.780  30.560  30.550            30.529            30.476   \n",
       "\n",
       "          Forward-60Days.1  Forward-90Days.1  Forward-120Days.1  \\\n",
       "20191128            30.423            30.378             30.343   \n",
       "20191127            30.428            30.385             30.347   \n",
       "20191126            30.438            30.397             30.359   \n",
       "20191125            30.430            30.393             30.353   \n",
       "20191122            30.438            30.401             30.360   \n",
       "\n",
       "          Forward-150Days.1  Forward-180Days.1  \n",
       "20191128             30.310                NaN  \n",
       "20191127             30.314                NaN  \n",
       "20191126             30.327                NaN  \n",
       "20191125             30.323                NaN  \n",
       "20191122             30.328                NaN  \n",
       "\n",
       "[5 rows x 22 columns]"
      ]
     },
     "execution_count": 17,
     "metadata": {},
     "output_type": "execute_result"
    }
   ],
   "source": [
    "import pandas as pd\n",
    "\n",
    "csv_file='ExchangeRate@201911281229.csv'\n",
    "exrate = pd.read_csv(csv_file)\n",
    "print(type(exrate))\n",
    "exrate.head()"
   ]
  },
  {
   "cell_type": "code",
   "execution_count": 18,
   "metadata": {},
   "outputs": [
    {
     "name": "stdout",
     "output_type": "stream",
     "text": [
      "<class 'pandas.core.frame.DataFrame'>\n",
      "Int64Index: 129 entries, 20191128 to 20190529\n",
      "Data columns (total 22 columns):\n",
      "Data Date            129 non-null object\n",
      "Currency             129 non-null object\n",
      "Rate                 129 non-null float64\n",
      "Cash                 129 non-null float64\n",
      "Spot                 129 non-null float64\n",
      "Forward-10Days       129 non-null float64\n",
      "Forward-30Days       129 non-null float64\n",
      "Forward-60Days       129 non-null float64\n",
      "Forward-90Days       129 non-null float64\n",
      "Forward-120Days      129 non-null float64\n",
      "Forward-150Days      129 non-null float64\n",
      "Forward-180Days      129 non-null object\n",
      "Rate.1               129 non-null float64\n",
      "Cash.1               129 non-null float64\n",
      "Spot.1               129 non-null float64\n",
      "Forward-10Days.1     129 non-null float64\n",
      "Forward-30Days.1     129 non-null float64\n",
      "Forward-60Days.1     129 non-null float64\n",
      "Forward-90Days.1     129 non-null float64\n",
      "Forward-120Days.1    129 non-null float64\n",
      "Forward-150Days.1    129 non-null float64\n",
      "Forward-180Days.1    0 non-null float64\n",
      "dtypes: float64(19), object(3)\n",
      "memory usage: 23.2+ KB\n"
     ]
    }
   ],
   "source": [
    "exrate.info()"
   ]
  },
  {
   "cell_type": "code",
   "execution_count": 19,
   "metadata": {},
   "outputs": [],
   "source": [
    "exrate.index=pd.to_datetime(exrate.index, format='%Y%m%d')"
   ]
  },
  {
   "cell_type": "code",
   "execution_count": 20,
   "metadata": {},
   "outputs": [
    {
     "name": "stdout",
     "output_type": "stream",
     "text": [
      "<class 'pandas.core.frame.DataFrame'>\n",
      "DatetimeIndex: 129 entries, 2019-11-28 to 2019-05-29\n",
      "Data columns (total 22 columns):\n",
      "Data Date            129 non-null object\n",
      "Currency             129 non-null object\n",
      "Rate                 129 non-null float64\n",
      "Cash                 129 non-null float64\n",
      "Spot                 129 non-null float64\n",
      "Forward-10Days       129 non-null float64\n",
      "Forward-30Days       129 non-null float64\n",
      "Forward-60Days       129 non-null float64\n",
      "Forward-90Days       129 non-null float64\n",
      "Forward-120Days      129 non-null float64\n",
      "Forward-150Days      129 non-null float64\n",
      "Forward-180Days      129 non-null object\n",
      "Rate.1               129 non-null float64\n",
      "Cash.1               129 non-null float64\n",
      "Spot.1               129 non-null float64\n",
      "Forward-10Days.1     129 non-null float64\n",
      "Forward-30Days.1     129 non-null float64\n",
      "Forward-60Days.1     129 non-null float64\n",
      "Forward-90Days.1     129 non-null float64\n",
      "Forward-120Days.1    129 non-null float64\n",
      "Forward-150Days.1    129 non-null float64\n",
      "Forward-180Days.1    0 non-null float64\n",
      "dtypes: float64(19), object(3)\n",
      "memory usage: 23.2+ KB\n"
     ]
    }
   ],
   "source": [
    "exrate.info()"
   ]
  },
  {
   "cell_type": "code",
   "execution_count": 21,
   "metadata": {},
   "outputs": [
    {
     "name": "stdout",
     "output_type": "stream",
     "text": [
      "Populating the interactive namespace from numpy and matplotlib\n"
     ]
    }
   ],
   "source": [
    "%pylab inline"
   ]
  },
  {
   "cell_type": "code",
   "execution_count": 24,
   "metadata": {},
   "outputs": [
    {
     "data": {
      "text/plain": [
       "<matplotlib.axes._subplots.AxesSubplot at 0x11948a828>"
      ]
     },
     "execution_count": 24,
     "metadata": {},
     "output_type": "execute_result"
    },
    {
     "data": {
      "image/png": "[encoded data removed]",
      "text/plain": [
       "<Figure size 432x288 with 1 Axes>"
      ]
     },
     "metadata": {
      "needs_background": "light"
     },
     "output_type": "display_data"
    }
   ],
   "source": [
    "exrate.plot(kind='line', y=['Rate','Cash'])"
   ]
  }
 ],
 "metadata": {
  "kernelspec": {
   "display_name": "Python 3",
   "language": "python",
   "name": "python3"
  },
  "language_info": {
   "codemirror_mode": {
    "name": "ipython",
    "version": 3
   },
   "file_extension": ".py",
   "mimetype": "text/x-python",
   "name": "python",
   "nbconvert_exporter": "python",
   "pygments_lexer": "ipython3",
   "version": "3.6.8"
  }
 },
 "nbformat": 4,
 "nbformat_minor": 2
}
